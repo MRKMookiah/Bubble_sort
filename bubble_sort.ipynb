{
 "cells": [
  {
   "cell_type": "code",
   "execution_count": 2,
   "id": "84cceaed-d4d1-4cb4-b387-aa4b11377f88",
   "metadata": {},
   "outputs": [],
   "source": [
    "# Bubble Sort with step-by-step output for teaching in Jupyter Notebook\n",
    "\n",
    "def bubble_sort_demo(A):\n",
    "    n = len(A)\n",
    "    print(\"Original list:\", A)\n",
    "    print(\"-\" * 40)\n",
    "    \n",
    "    for pass_num in range(n - 1):\n",
    "        swapped = False\n",
    "        print(f\"Pass {pass_num + 1}:\")\n",
    "        \n",
    "        for i in range(0, n - 1 - pass_num):\n",
    "            print(f\"  Comparing {A[i]} and {A[i+1]}...\")\n",
    "            \n",
    "            if A[i] > A[i + 1]:\n",
    "                print(f\"   🔄 Swapping {A[i]} and {A[i+1]}\")\n",
    "                A[i], A[i + 1] = A[i + 1], A[i]\n",
    "                swapped = True\n",
    "            else:\n",
    "                print(f\"   ✅ No swap needed\")\n",
    "        \n",
    "        print(f\"After Pass {pass_num + 1}: {A}\")\n",
    "        print(\"-\" * 40)\n",
    "        \n",
    "        if not swapped:\n",
    "            print(\"No swaps in this pass. List is already sorted!\")\n",
    "            break\n",
    "    \n",
    "    print(\"Sorted list:\", A)\n",
    "    return A"
   ]
  },
  {
   "cell_type": "code",
   "execution_count": 3,
   "id": "9b0cbbc6-39ed-4649-8ffa-d27faa64a1e6",
   "metadata": {},
   "outputs": [
    {
     "name": "stdout",
     "output_type": "stream",
     "text": [
      "Original list: [4, 2, 5, 1, 3]\n",
      "----------------------------------------\n",
      "Pass 1:\n",
      "  Comparing 4 and 2...\n",
      "   🔄 Swapping 4 and 2\n",
      "  Comparing 4 and 5...\n",
      "   ✅ No swap needed\n",
      "  Comparing 5 and 1...\n",
      "   🔄 Swapping 5 and 1\n",
      "  Comparing 5 and 3...\n",
      "   🔄 Swapping 5 and 3\n",
      "After Pass 1: [2, 4, 1, 3, 5]\n",
      "----------------------------------------\n",
      "Pass 2:\n",
      "  Comparing 2 and 4...\n",
      "   ✅ No swap needed\n",
      "  Comparing 4 and 1...\n",
      "   🔄 Swapping 4 and 1\n",
      "  Comparing 4 and 3...\n",
      "   🔄 Swapping 4 and 3\n",
      "After Pass 2: [2, 1, 3, 4, 5]\n",
      "----------------------------------------\n",
      "Pass 3:\n",
      "  Comparing 2 and 1...\n",
      "   🔄 Swapping 2 and 1\n",
      "  Comparing 2 and 3...\n",
      "   ✅ No swap needed\n",
      "After Pass 3: [1, 2, 3, 4, 5]\n",
      "----------------------------------------\n",
      "Pass 4:\n",
      "  Comparing 1 and 2...\n",
      "   ✅ No swap needed\n",
      "After Pass 4: [1, 2, 3, 4, 5]\n",
      "----------------------------------------\n",
      "No swaps in this pass. List is already sorted!\n",
      "Sorted list: [1, 2, 3, 4, 5]\n"
     ]
    },
    {
     "data": {
      "text/plain": [
       "[1, 2, 3, 4, 5]"
      ]
     },
     "execution_count": 3,
     "metadata": {},
     "output_type": "execute_result"
    }
   ],
   "source": [
    "# Example usage in Jupyter\n",
    "numbers = [4, 2, 5, 1, 3]\n",
    "bubble_sort_demo(numbers)\n"
   ]
  },
  {
   "cell_type": "code",
   "execution_count": null,
   "id": "25e56c92-0a18-4ea6-9d73-642ce58ee051",
   "metadata": {},
   "outputs": [],
   "source": []
  }
 ],
 "metadata": {
  "kernelspec": {
   "display_name": "Python 3 (ipykernel)",
   "language": "python",
   "name": "python3"
  },
  "language_info": {
   "codemirror_mode": {
    "name": "ipython",
    "version": 3
   },
   "file_extension": ".py",
   "mimetype": "text/x-python",
   "name": "python",
   "nbconvert_exporter": "python",
   "pygments_lexer": "ipython3",
   "version": "3.10.18"
  }
 },
 "nbformat": 4,
 "nbformat_minor": 5
}
